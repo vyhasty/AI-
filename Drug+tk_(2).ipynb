{
  "cells": [
    {
      "cell_type": "code",
      "execution_count": null,
      "id": "ddcb6499",
      "metadata": {
        "id": "ddcb6499"
      },
      "outputs": [],
      "source": [
        "import pandas as pd\n",
        "import numpy as np\n",
        "import matplotlib.pyplot as plt\n",
        "from sklearn.model_selection import train_test_split\n",
        "from scipy import stats\n",
        "from sklearn.linear_model import LinearRegression\n",
        "from sklearn import linear_model\n",
        "from sklearn.metrics import *\n",
        "from sklearn.tree import DecisionTreeClassifier"
      ]
    },
    {
      "cell_type": "code",
      "execution_count": null,
      "id": "eea1900a",
      "metadata": {
        "id": "eea1900a",
        "outputId": "22ba2b30-67a1-4e65-8597-057531d2058d"
      },
      "outputs": [
        {
          "data": {
            "text/html": [
              "<div>\n",
              "<style scoped>\n",
              "    .dataframe tbody tr th:only-of-type {\n",
              "        vertical-align: middle;\n",
              "    }\n",
              "\n",
              "    .dataframe tbody tr th {\n",
              "        vertical-align: top;\n",
              "    }\n",
              "\n",
              "    .dataframe thead th {\n",
              "        text-align: right;\n",
              "    }\n",
              "</style>\n",
              "<table border=\"1\" class=\"dataframe\">\n",
              "  <thead>\n",
              "    <tr style=\"text-align: right;\">\n",
              "      <th></th>\n",
              "      <th>Age</th>\n",
              "      <th>Sex</th>\n",
              "      <th>BP</th>\n",
              "      <th>Cholesterol</th>\n",
              "      <th>Na_to_K</th>\n",
              "      <th>Drug</th>\n",
              "    </tr>\n",
              "  </thead>\n",
              "  <tbody>\n",
              "    <tr>\n",
              "      <th>0</th>\n",
              "      <td>23</td>\n",
              "      <td>F</td>\n",
              "      <td>HIGH</td>\n",
              "      <td>HIGH</td>\n",
              "      <td>25.355</td>\n",
              "      <td>drugY</td>\n",
              "    </tr>\n",
              "    <tr>\n",
              "      <th>1</th>\n",
              "      <td>47</td>\n",
              "      <td>M</td>\n",
              "      <td>LOW</td>\n",
              "      <td>HIGH</td>\n",
              "      <td>13.093</td>\n",
              "      <td>drugC</td>\n",
              "    </tr>\n",
              "    <tr>\n",
              "      <th>2</th>\n",
              "      <td>47</td>\n",
              "      <td>M</td>\n",
              "      <td>LOW</td>\n",
              "      <td>HIGH</td>\n",
              "      <td>10.114</td>\n",
              "      <td>drugC</td>\n",
              "    </tr>\n",
              "    <tr>\n",
              "      <th>3</th>\n",
              "      <td>28</td>\n",
              "      <td>F</td>\n",
              "      <td>NORMAL</td>\n",
              "      <td>HIGH</td>\n",
              "      <td>7.798</td>\n",
              "      <td>drugX</td>\n",
              "    </tr>\n",
              "    <tr>\n",
              "      <th>4</th>\n",
              "      <td>61</td>\n",
              "      <td>F</td>\n",
              "      <td>LOW</td>\n",
              "      <td>HIGH</td>\n",
              "      <td>18.043</td>\n",
              "      <td>drugY</td>\n",
              "    </tr>\n",
              "    <tr>\n",
              "      <th>...</th>\n",
              "      <td>...</td>\n",
              "      <td>...</td>\n",
              "      <td>...</td>\n",
              "      <td>...</td>\n",
              "      <td>...</td>\n",
              "      <td>...</td>\n",
              "    </tr>\n",
              "    <tr>\n",
              "      <th>195</th>\n",
              "      <td>56</td>\n",
              "      <td>F</td>\n",
              "      <td>LOW</td>\n",
              "      <td>HIGH</td>\n",
              "      <td>11.567</td>\n",
              "      <td>drugC</td>\n",
              "    </tr>\n",
              "    <tr>\n",
              "      <th>196</th>\n",
              "      <td>16</td>\n",
              "      <td>M</td>\n",
              "      <td>LOW</td>\n",
              "      <td>HIGH</td>\n",
              "      <td>12.006</td>\n",
              "      <td>drugC</td>\n",
              "    </tr>\n",
              "    <tr>\n",
              "      <th>197</th>\n",
              "      <td>52</td>\n",
              "      <td>M</td>\n",
              "      <td>NORMAL</td>\n",
              "      <td>HIGH</td>\n",
              "      <td>9.894</td>\n",
              "      <td>drugX</td>\n",
              "    </tr>\n",
              "    <tr>\n",
              "      <th>198</th>\n",
              "      <td>23</td>\n",
              "      <td>M</td>\n",
              "      <td>NORMAL</td>\n",
              "      <td>NORMAL</td>\n",
              "      <td>14.020</td>\n",
              "      <td>drugX</td>\n",
              "    </tr>\n",
              "    <tr>\n",
              "      <th>199</th>\n",
              "      <td>40</td>\n",
              "      <td>F</td>\n",
              "      <td>LOW</td>\n",
              "      <td>NORMAL</td>\n",
              "      <td>11.349</td>\n",
              "      <td>drugX</td>\n",
              "    </tr>\n",
              "  </tbody>\n",
              "</table>\n",
              "<p>200 rows × 6 columns</p>\n",
              "</div>"
            ],
            "text/plain": [
              "     Age Sex      BP Cholesterol  Na_to_K   Drug\n",
              "0     23   F    HIGH        HIGH   25.355  drugY\n",
              "1     47   M     LOW        HIGH   13.093  drugC\n",
              "2     47   M     LOW        HIGH   10.114  drugC\n",
              "3     28   F  NORMAL        HIGH    7.798  drugX\n",
              "4     61   F     LOW        HIGH   18.043  drugY\n",
              "..   ...  ..     ...         ...      ...    ...\n",
              "195   56   F     LOW        HIGH   11.567  drugC\n",
              "196   16   M     LOW        HIGH   12.006  drugC\n",
              "197   52   M  NORMAL        HIGH    9.894  drugX\n",
              "198   23   M  NORMAL      NORMAL   14.020  drugX\n",
              "199   40   F     LOW      NORMAL   11.349  drugX\n",
              "\n",
              "[200 rows x 6 columns]"
            ]
          },
          "execution_count": 2,
          "metadata": {},
          "output_type": "execute_result"
        }
      ],
      "source": [
        "dr=pd.read_csv(\"drug.csv\")\n",
        "dr"
      ]
    },
    {
      "cell_type": "code",
      "execution_count": null,
      "id": "bddf8247",
      "metadata": {
        "id": "bddf8247",
        "outputId": "fc4c4fe7-2ee4-4315-f8a8-f8af8729862a"
      },
      "outputs": [
        {
          "data": {
            "text/plain": [
              "(200, 6)"
            ]
          },
          "execution_count": 3,
          "metadata": {},
          "output_type": "execute_result"
        }
      ],
      "source": [
        "dr.shape"
      ]
    },
    {
      "cell_type": "code",
      "execution_count": null,
      "id": "a9158e66",
      "metadata": {
        "id": "a9158e66",
        "outputId": "84a8099f-ea2c-4db9-c3e0-d8703472bffe"
      },
      "outputs": [
        {
          "data": {
            "text/plain": [
              "<bound method NDFrame.describe of      Age Sex      BP Cholesterol  Na_to_K   Drug\n",
              "0     23   F    HIGH        HIGH   25.355  drugY\n",
              "1     47   M     LOW        HIGH   13.093  drugC\n",
              "2     47   M     LOW        HIGH   10.114  drugC\n",
              "3     28   F  NORMAL        HIGH    7.798  drugX\n",
              "4     61   F     LOW        HIGH   18.043  drugY\n",
              "..   ...  ..     ...         ...      ...    ...\n",
              "195   56   F     LOW        HIGH   11.567  drugC\n",
              "196   16   M     LOW        HIGH   12.006  drugC\n",
              "197   52   M  NORMAL        HIGH    9.894  drugX\n",
              "198   23   M  NORMAL      NORMAL   14.020  drugX\n",
              "199   40   F     LOW      NORMAL   11.349  drugX\n",
              "\n",
              "[200 rows x 6 columns]>"
            ]
          },
          "execution_count": 4,
          "metadata": {},
          "output_type": "execute_result"
        }
      ],
      "source": [
        "dr.describe"
      ]
    },
    {
      "cell_type": "code",
      "execution_count": null,
      "id": "fc358a0d",
      "metadata": {
        "id": "fc358a0d",
        "outputId": "d59f6cba-88d4-41b8-e145-954613dbf9c2"
      },
      "outputs": [
        {
          "data": {
            "text/plain": [
              "Age            0\n",
              "Sex            0\n",
              "BP             0\n",
              "Cholesterol    0\n",
              "Na_to_K        0\n",
              "Drug           0\n",
              "dtype: int64"
            ]
          },
          "execution_count": 5,
          "metadata": {},
          "output_type": "execute_result"
        }
      ],
      "source": [
        "dr.isnull().sum()"
      ]
    },
    {
      "cell_type": "code",
      "execution_count": null,
      "id": "45d5bb14",
      "metadata": {
        "id": "45d5bb14"
      },
      "outputs": [],
      "source": [
        "drug_mapping = {\n",
        "    \"drugY\": \"Furosemide\",   # یا \"Hydrochlorothiazide\"\n",
        "    \"drugA\": \"Atenolol\",\n",
        "    \"drugB\": \"Atenolol\",\n",
        "    \"drugC\": \"Lisinopril\",\n",
        "    \"drugX\": \"Lisinopril\"\n",
        "}"
      ]
    },
    {
      "cell_type": "code",
      "execution_count": null,
      "id": "0960388f",
      "metadata": {
        "id": "0960388f",
        "outputId": "280951f3-0905-4bf8-9e6e-1b19e0943438"
      },
      "outputs": [
        {
          "data": {
            "text/plain": [
              "array([[23, 'F', 'HIGH', 'HIGH', 25.355],\n",
              "       [47, 'M', 'LOW', 'HIGH', 13.093],\n",
              "       [47, 'M', 'LOW', 'HIGH', 10.114],\n",
              "       [28, 'F', 'NORMAL', 'HIGH', 7.798],\n",
              "       [61, 'F', 'LOW', 'HIGH', 18.043]], dtype=object)"
            ]
          },
          "execution_count": 7,
          "metadata": {},
          "output_type": "execute_result"
        }
      ],
      "source": [
        "x=dr[[\"Age\",\"Sex\",\"BP\",\"Cholesterol\",\"Na_to_K\"]].values\n",
        "x[0:5]"
      ]
    },
    {
      "cell_type": "code",
      "execution_count": null,
      "id": "097cd007",
      "metadata": {
        "id": "097cd007",
        "outputId": "7a999c7f-886e-43e8-ce4c-e47a2f406e97"
      },
      "outputs": [
        {
          "data": {
            "text/plain": [
              "0    drugY\n",
              "1    drugC\n",
              "2    drugC\n",
              "3    drugX\n",
              "4    drugY\n",
              "Name: Drug, dtype: object"
            ]
          },
          "execution_count": 18,
          "metadata": {},
          "output_type": "execute_result"
        }
      ],
      "source": [
        "y=dr[\"Drug\"]\n",
        "y[0:5]"
      ]
    },
    {
      "cell_type": "code",
      "execution_count": null,
      "id": "cd586321",
      "metadata": {
        "id": "cd586321",
        "outputId": "2e6ac5ee-1d4f-4a12-a78a-0f708b4ca5b1"
      },
      "outputs": [
        {
          "data": {
            "text/plain": [
              "array([[23, 0, 0, 0, 25.355],\n",
              "       [47, 1, 1, 0, 13.093],\n",
              "       [47, 1, 1, 0, 10.114],\n",
              "       [28, 0, 2, 0, 7.798],\n",
              "       [61, 0, 1, 0, 18.043]], dtype=object)"
            ]
          },
          "execution_count": 9,
          "metadata": {},
          "output_type": "execute_result"
        }
      ],
      "source": [
        "from sklearn import preprocessing\n",
        "la_sex=preprocessing.LabelEncoder()\n",
        "la_sex.fit([\"F\",\"M\"])\n",
        "gender=x[: ,1]=la_sex.transform(x[: ,1])\n",
        "\n",
        "la_BP=preprocessing.LabelEncoder()\n",
        "la_BP.fit([\"HIGH\",\"LOW\",\"NORMAL\"])\n",
        "x[: ,2]=la_BP.transform(x[: ,2])\n",
        "\n",
        "la_ch=preprocessing.LabelEncoder()\n",
        "la_ch.fit([\"HIGH\",\"NORMAL\"])\n",
        "x[: ,3]=la_ch.transform(x[: ,3])\n",
        "\n",
        "x[0:5]"
      ]
    },
    {
      "cell_type": "code",
      "execution_count": null,
      "id": "19558ab4",
      "metadata": {
        "id": "19558ab4"
      },
      "outputs": [],
      "source": [
        "x_train,x_test,y_train,y_test=train_test=train_test_split(x,y,test_size=0.3,random_state=4)\n"
      ]
    },
    {
      "cell_type": "code",
      "execution_count": null,
      "id": "9100f2a6",
      "metadata": {
        "id": "9100f2a6"
      },
      "outputs": [],
      "source": [
        "drugtree=DecisionTreeClassifier(criterion=\"entropy\",max_depth=4)"
      ]
    },
    {
      "cell_type": "code",
      "execution_count": null,
      "id": "27572fdd",
      "metadata": {
        "id": "27572fdd"
      },
      "outputs": [],
      "source": [
        "drugtree.fit(x_train , y_train)\n",
        "predtree=drugtree.predict(x_test)"
      ]
    },
    {
      "cell_type": "code",
      "execution_count": null,
      "id": "4e4c435e",
      "metadata": {
        "id": "4e4c435e",
        "outputId": "5c01b884-2ccc-4c6a-fadb-50fe648ca121"
      },
      "outputs": [
        {
          "name": "stdout",
          "output_type": "stream",
          "text": [
            "11     drugY\n",
            "99     drugY\n",
            "128    drugY\n",
            "175    drugY\n",
            "1      drugC\n",
            "Name: Drug, dtype: object\n",
            "['drugY' 'drugY' 'drugY' 'drugY' 'drugC']\n"
          ]
        }
      ],
      "source": [
        "print(y_test[0:5])\n",
        "print(predtree[0:5])"
      ]
    },
    {
      "cell_type": "code",
      "execution_count": null,
      "id": "0dab6a39",
      "metadata": {
        "id": "0dab6a39"
      },
      "outputs": [],
      "source": [
        "# from sklearn.model_selection import cross_val_score\n",
        "# c= cross_val_score(drugtree,x,y,cv=5)\n",
        "# c\n",
        "# c.mean()"
      ]
    },
    {
      "cell_type": "code",
      "execution_count": null,
      "id": "bc0b3fb8",
      "metadata": {
        "id": "bc0b3fb8"
      },
      "outputs": [],
      "source": [
        "from sklearn import metrics"
      ]
    },
    {
      "cell_type": "code",
      "execution_count": null,
      "id": "3d723da8",
      "metadata": {
        "id": "3d723da8",
        "outputId": "962fff12-bd8a-48fb-8a6c-d7897a58f38d"
      },
      "outputs": [
        {
          "name": "stdout",
          "output_type": "stream",
          "text": [
            "accuracy: 0.9666666666666667\n"
          ]
        }
      ],
      "source": [
        "print(\"accuracy:\",metrics.accuracy_score(y_test,predtree))"
      ]
    },
    {
      "cell_type": "code",
      "execution_count": null,
      "id": "cd3ae57f",
      "metadata": {
        "id": "cd3ae57f"
      },
      "outputs": [],
      "source": [
        "import tkinter\n",
        "from tkinter import*\n",
        "def calc_result():\n",
        "\n",
        "    age = int(age_txt.get())\n",
        "    g = int(g_txt.get())\n",
        "    bp = int(bp_txt.get())\n",
        "    ch = int(ch_txt.get())\n",
        "    na = float(na_txt.get())\n",
        "\n",
        "    dr_input = np.array([[age, g, bp, ch, na]])\n",
        "    predicted_drug = drugtree.predict(dr_input)[0] # مقدار پیش‌بینی‌شده\n",
        "\n",
        "    # تعریف نگاشت اسم‌های مستعار به واقعی\n",
        "    drug_mapping = {\n",
        "        \"drugY\": \"Furosemide\", # یا Hydrochlorothiazide\n",
        "        \"drugA\": \"Atenolol\",\n",
        "        \"drugB\": \"Metoprolol\",\n",
        "        \"drugC\": \"Lisinopril\",\n",
        "        \"drugX\": \"Atorvastatin\"\n",
        "    }\n",
        "\n",
        "    # جایگزینی نام مستعار با نام واقعی\n",
        "    real_drug_name = drug_mapping.get(predicted_drug, predicted_drug)\n",
        "\n",
        "    # نمایش نام داروی واقعی در پنجره\n",
        "    result.configure(text=real_drug_name)\n",
        "\n",
        "\n",
        "\n",
        "win= Tk()\n",
        "win.geometry(\"350x370\")\n",
        "Label(win, text= \"Age\" ).place(x=30,y=30)\n",
        "age_txt=Entry(win)\n",
        "age_txt.place(x=130,y=30)\n",
        "Label(win,text=\"Gender\").place(x=30,y=80)\n",
        "g_txt=Entry(win)\n",
        "g_txt.place(x=130,y=80)\n",
        "Label(win, text=\"BP\").place(x=30, y=130)\n",
        "bp_txt=Entry(win)\n",
        "bp_txt.place(x=130,y=130)\n",
        "Label(win,text=\"Chlo\").place(x=30,y=180)\n",
        "ch_txt=Entry(win)\n",
        "ch_txt.place(x=130,y=180)\n",
        "Label(win,text=\"Na\").place(x=30,y=230)\n",
        "na_txt=Entry(win)\n",
        "na_txt.place(x=130,y=230)\n",
        "na_txt=Entry(win)\n",
        "na_txt.place(x=130,y=230)\n",
        "Button(win, text=\"enter\",width=18,command=calc_result).place(x=100,y=280)\n",
        "result=Label(win,width=18,bg=\"yellow\")\n",
        "result.place(x=100,y=320)\n",
        "win.mainloop()"
      ]
    },
    {
      "cell_type": "code",
      "execution_count": null,
      "id": "af99ad5b",
      "metadata": {
        "id": "af99ad5b"
      },
      "outputs": [],
      "source": []
    },
    {
      "cell_type": "code",
      "execution_count": null,
      "id": "a0a33a08",
      "metadata": {
        "id": "a0a33a08"
      },
      "outputs": [],
      "source": []
    },
    {
      "cell_type": "code",
      "execution_count": null,
      "id": "e0e88f62",
      "metadata": {
        "id": "e0e88f62"
      },
      "outputs": [],
      "source": []
    }
  ],
  "metadata": {
    "kernelspec": {
      "display_name": "Python 3 (ipykernel)",
      "language": "python",
      "name": "python3"
    },
    "language_info": {
      "codemirror_mode": {
        "name": "ipython",
        "version": 3
      },
      "file_extension": ".py",
      "mimetype": "text/x-python",
      "name": "python",
      "nbconvert_exporter": "python",
      "pygments_lexer": "ipython3",
      "version": "3.11.5"
    },
    "colab": {
      "provenance": []
    }
  },
  "nbformat": 4,
  "nbformat_minor": 5
}